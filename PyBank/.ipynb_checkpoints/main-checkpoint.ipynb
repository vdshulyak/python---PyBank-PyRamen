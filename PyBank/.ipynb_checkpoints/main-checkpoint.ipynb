{
 "cells": [
  {
   "cell_type": "code",
   "execution_count": 4,
   "metadata": {
    "scrolled": true
   },
   "outputs": [
    {
     "name": "stdout",
     "output_type": "stream",
     "text": [
      "Financial Analysis\n",
      "------------------------\n",
      "Total Months:86\n",
      "Total: 38382578\n",
      "Average Change:-2315.12\n",
      "Greatest Increase in Profits: 'Feb-2012' 1926159.\n",
      "Greatest Decrease in Profits: 'Sep-2013' -2196167.\n",
      "['Financial Analysis', '------------------------', 'Total Months:86', 'Total: 38382578', 'Average Change:-2315.12', \"Greatest Increase in Profits: 'Feb-2012' 1926159.\", \"Greatest Decrease in Profits: 'Sep-2013' -2196167.\"]\n"
     ]
    }
   ],
   "source": [
    "from pathlib import Path\n",
    "import pandas as pd\n",
    "import locale\n",
    "import csv\n",
    "\n",
    "budget_data = pd.read_csv(\"C:/Users/racon/OneDrive/Desktop/python-homework/PyBank/budget_data.csv\")\n",
    "Total_Month = budget_data.shape[0]\n",
    "total = budget_data[\"Profit/Losses\"].sum().round(2)\n",
    "#currency_total = \"${:,.2f}\".format(total)\n",
    "diffs = budget_data.set_index(\"Date\").diff().dropna().sort_values(by = [\"Profit/Losses\"])\n",
    "\n",
    "min_diff = diffs.head(1)\n",
    "max_diff = diffs.tail(1)\n",
    "\n",
    "\n",
    "max_month=max_diff.index.values\n",
    "max_value = max_diff.values\n",
    "min_month=min_diff.index.values\n",
    "min_value = min_diff.values\n",
    "\n",
    "sorted_diff = diffs.sort_values(by =  \"Profit/Losses\").dropna()\n",
    "avg_diff = round(diffs[\"Profit/Losses\"].mean(),2)\n",
    "\n",
    "result =[]\n",
    "a =\"Financial Analysis\"\n",
    "print(a)\n",
    "result.append(a)\n",
    "        \n",
    "b = (\"------------------------\")\n",
    "print(b)\n",
    "result.append(b)\n",
    "\n",
    "c = (f\"Total Months:{Total_Month}\")\n",
    "print(c)\n",
    "result.append(c)\n",
    "\n",
    "x =(f\"Total: {total}\")\n",
    "print(x)\n",
    "result.append(x)\n",
    "x =(f\"Average Change:{avg_diff}\")\n",
    "print(x)\n",
    "result.append(x)\n",
    "x =(f\"Greatest Increase in Profits: {str(max_month).strip('[]')} {str(max_value).strip('[]')}\")\n",
    "print(x)\n",
    "result.append(x)\n",
    "x = (f\"Greatest Decrease in Profits: {str(min_month).strip('[]')} {str(min_value).strip('[]')}\")\n",
    "print(x)\n",
    "result.append(x)\n",
    "print(result)\n",
    "\n",
    "\n",
    "with open(\"Financial_Analysis.csv\", 'w+', newline='') as f: \n",
    "\n",
    "    w = csv.writer(f)\n",
    "    w.writerows(result)\n",
    "    f.close\n",
    "    \n",
    "text = open(\"Financial_Analysis.csv\", \"r\")\n",
    "text = ''.join([i for i in text]) \\\n",
    "    .replace(\",\", \"\")\n",
    "x = open(\"Financial_Analysis output.csv\",\"w\")\n",
    "x.writelines(text)\n",
    "x.close()\n",
    "    "
   ]
  },
  {
   "cell_type": "raw",
   "metadata": {},
   "source": []
  },
  {
   "cell_type": "code",
   "execution_count": null,
   "metadata": {},
   "outputs": [],
   "source": []
  },
  {
   "cell_type": "code",
   "execution_count": null,
   "metadata": {},
   "outputs": [],
   "source": []
  },
  {
   "cell_type": "code",
   "execution_count": null,
   "metadata": {},
   "outputs": [],
   "source": []
  },
  {
   "cell_type": "code",
   "execution_count": null,
   "metadata": {},
   "outputs": [],
   "source": []
  },
  {
   "cell_type": "code",
   "execution_count": null,
   "metadata": {},
   "outputs": [],
   "source": []
  }
 ],
 "metadata": {
  "kernelspec": {
   "display_name": "Python 3",
   "language": "python",
   "name": "python3"
  },
  "language_info": {
   "codemirror_mode": {
    "name": "ipython",
    "version": 3
   },
   "file_extension": ".py",
   "mimetype": "text/x-python",
   "name": "python",
   "nbconvert_exporter": "python",
   "pygments_lexer": "ipython3",
   "version": "3.7.9"
  }
 },
 "nbformat": 4,
 "nbformat_minor": 4
}
